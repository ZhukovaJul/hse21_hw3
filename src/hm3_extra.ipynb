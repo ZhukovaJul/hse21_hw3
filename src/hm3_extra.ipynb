{
  "nbformat": 4,
  "nbformat_minor": 0,
  "metadata": {
    "colab": {
      "name": "hm3_extra.ipynb",
      "provenance": []
    },
    "kernelspec": {
      "name": "python3",
      "display_name": "Python 3"
    },
    "language_info": {
      "name": "python"
    }
  },
  "cells": [
    {
      "cell_type": "code",
      "metadata": {
        "id": "XA3qlOUMXJlL"
      },
      "source": [
        "import numpy as np\n",
        "import pandas as pd"
      ],
      "execution_count": 1,
      "outputs": []
    },
    {
      "cell_type": "code",
      "metadata": {
        "colab": {
          "base_uri": "https://localhost:8080/"
        },
        "id": "1hWq-BLjXgDu",
        "outputId": "0934b641-cdf8-449a-dffe-30fe3a505a11"
      },
      "source": [
        "file1 = pd.read_csv('differentially_expressed_genes.txt', sep = '\\t')\n",
        "file_sort = file1.sort_values(by='log2FoldChange', ascending=False)\n",
        "file_sort.head"
      ],
      "execution_count": 7,
      "outputs": [
        {
          "output_type": "execute_result",
          "data": {
            "text/plain": [
              "<bound method NDFrame.head of                           baseMean  ...           padj\n",
              "ENSMUSG00000058354.7    623.196290  ...   1.551256e-25\n",
              "ENSMUSG00000040728.15   419.799571  ...   3.317755e-23\n",
              "ENSMUSG00000039269.5    395.733954  ...   5.251187e-23\n",
              "ENSMUSG00000035557.9   5638.948399  ...  2.352786e-125\n",
              "ENSMUSG00000046180.11   293.906771  ...   4.099891e-21\n",
              "...                            ...  ...            ...\n",
              "ENSMUSG00000020542.18    10.399561  ...   2.142068e-04\n",
              "ENSMUSG00000115759.1      7.573481  ...   1.053499e-03\n",
              "ENSMUSG00000038071.3     14.131287  ...   3.696224e-06\n",
              "ENSMUSG00000115410.1      2.656151  ...   7.067596e-03\n",
              "ENSMUSG00000106957.1      2.987570  ...   4.571846e-03\n",
              "\n",
              "[6714 rows x 6 columns]>"
            ]
          },
          "metadata": {},
          "execution_count": 7
        }
      ]
    },
    {
      "cell_type": "code",
      "metadata": {
        "id": "bvBHXHS4YLNr"
      },
      "source": [
        ""
      ],
      "execution_count": null,
      "outputs": []
    }
  ]
}